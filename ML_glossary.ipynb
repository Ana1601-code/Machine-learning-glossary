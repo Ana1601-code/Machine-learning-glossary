{
  "nbformat": 4,
  "nbformat_minor": 0,
  "metadata": {
    "colab": {
      "name": "ML glossary.ipynb",
      "provenance": [],
      "authorship_tag": "ABX9TyNDPjlyc+K1lCUzZlbCqFhs",
      "include_colab_link": true
    },
    "kernelspec": {
      "name": "python3",
      "display_name": "Python 3"
    },
    "language_info": {
      "name": "python"
    }
  },
  "cells": [
    {
      "cell_type": "markdown",
      "metadata": {
        "id": "view-in-github",
        "colab_type": "text"
      },
      "source": [
        "<a href=\"https://colab.research.google.com/github/Ana1601-code/Machine-learning-glossary/blob/main/ML_glossary.ipynb\" target=\"_parent\"><img src=\"https://colab.research.google.com/assets/colab-badge.svg\" alt=\"Open In Colab\"/></a>"
      ]
    },
    {
      "cell_type": "markdown",
      "metadata": {
        "id": "rtJdbAdTjsCp"
      },
      "source": [
        "\n",
        "\n",
        "1.   **Models :** A model is a function that computes something on tensors (a forward pass). Some variables that can be updated in response to training.\n",
        "\n",
        "2.   **Forward Pass :** It refers to calculation process, values of the output layers from the inputs data. It's traversing through all neurons from first to last layer (with reference to Neural network).\n",
        "\n",
        "3. **Tensors :** A tensor is a generalization of vectors and matrices to potentially higher dimensions. In context of Tensorflow, tensor is the main object we manipulate and pass around.\n",
        "\n",
        "4. **Layers :** A layer is a callable object that takes as input one or more tensors and that outputs one or more tensors.\n",
        "\n",
        "5. **Callable object :** It is the object in computer program which can be called like a function.\n",
        "\n",
        "\n",
        "\n",
        "\n",
        "\n",
        "\n",
        "\n"
      ]
    }
  ]
}