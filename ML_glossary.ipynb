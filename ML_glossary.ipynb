{
  "nbformat": 4,
  "nbformat_minor": 0,
  "metadata": {
    "colab": {
      "name": "ML glossary.ipynb",
      "provenance": [],
      "authorship_tag": "ABX9TyOK8/jsv7cNYHGOtLaKHzuc",
      "include_colab_link": true
    },
    "kernelspec": {
      "name": "python3",
      "display_name": "Python 3"
    },
    "language_info": {
      "name": "python"
    }
  },
  "cells": [
    {
      "cell_type": "markdown",
      "metadata": {
        "id": "view-in-github",
        "colab_type": "text"
      },
      "source": [
        "<a href=\"https://colab.research.google.com/github/Ana1601-code/Machine-learning-glossary/blob/main/ML_glossary.ipynb\" target=\"_parent\"><img src=\"https://colab.research.google.com/assets/colab-badge.svg\" alt=\"Open In Colab\"/></a>"
      ]
    },
    {
      "cell_type": "markdown",
      "metadata": {
        "id": "rtJdbAdTjsCp"
      },
      "source": [
        "\n",
        "\n",
        "1.   **Models :** A model is a function that computes something on tensors (a forward pass). Some variables that can be updated in response to training.\n",
        "\n",
        "\n",
        "\n",
        "2.   **Forward Pass :** It refers to calculation process, values of the output layers from the inputs data. It's traversing through all neurons from first to last layer (with reference to Neural network).\n",
        "\n",
        "\n",
        "\n",
        "3. **Tensors :** A tensor is a generalization of vectors and matrices to potentially higher dimensions. In context of Tensorflow, tensor is the main object we manipulate and pass around.\n",
        "\n",
        "\n",
        "\n",
        "4. **Layers :** A layer is a callable object that takes as input one or more tensors and that outputs one or more tensors.\n",
        "\n",
        "\n",
        "\n",
        "5. **Callable object :** It is the object in computer program which can be called like a function.\n",
        "\n",
        "\n",
        "\n",
        "6. **Tensorflow :** It is the free, end-to-end open-source software library for machine learning.\n",
        "\n",
        "\n",
        "\n",
        "7. **Library :** A library is a collection or set of codes pre-written, that can be called upon when building your own code.\n",
        "\n",
        "\n",
        "\n",
        "8. **Keras :** Keras is an open-source library for Neural networks.\n",
        "\n",
        "\n",
        "\n",
        "9. **Sequential :** A sequential model is appropriate for a plain stack of layers where each layer has exactly one input tensor and one output tensor. This model can not be used for multiple inputs and outputs. \n",
        "\n",
        "\n",
        "\n",
        "10. **tf.keras.layers.Dense :** Dense implements the operation. \n",
        "\n",
        "\n",
        "       output = activation(dot(input, kernel) + bias)\n",
        "where, \n",
        "\n",
        "\n",
        "*   Acitvation - is the element-wise activation function passed as the activation argument.\n",
        "*   Kernel - is a weights matrix created by the layer.\n",
        "*   Bias - is a bias vector created by the layer (only applicable if use_bias is True).\n",
        "\n",
        "\n",
        "\n",
        "11. **Conv2D :** 2D convolutional layer. This layer creates a convolution kernel that is wind with layers input which helps produce a tensor of outputs.\n",
        "\n",
        "\n",
        "\n",
        "12. **tf.keras.layers.Flatten :** Flattens the input and does not affect the batch size. \n",
        "\n",
        "\n",
        "\n",
        "\n",
        "\n",
        "\n",
        "\n",
        "\n",
        "\n",
        "\n",
        "\n",
        "\n",
        "\n",
        "\n",
        "\n",
        "\n"
      ]
    }
  ]
}